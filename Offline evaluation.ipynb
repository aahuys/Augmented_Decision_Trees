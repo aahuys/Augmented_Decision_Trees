{
 "cells": [
  {
   "cell_type": "code",
   "execution_count": 1,
   "id": "2d36a8b6",
   "metadata": {},
   "outputs": [],
   "source": [
    "#all imports\n",
    "import numpy as np\n",
    "import time\n",
    "import matplotlib.pyplot as plt\n",
    "\n",
    "from InitData import *\n",
    "from DecisionTrees import *\n",
    "from Evaluation import *"
   ]
  },
  {
   "cell_type": "markdown",
   "id": "b48a8857",
   "metadata": {},
   "source": [
    "## Load data"
   ]
  },
  {
   "cell_type": "code",
   "execution_count": 2,
   "id": "8d363b3e",
   "metadata": {},
   "outputs": [
    {
     "name": "stdout",
     "output_type": "stream",
     "text": [
      "Dataset ratings.csv loaded\n"
     ]
    }
   ],
   "source": [
    "#load dataset\n",
    "ratingsData = InitRatingsSubSet(10)\n",
    "#rename colums\n",
    "ratingsData = ratingsData.rename(columns={'userId': 'user', 'movieId': 'item'})"
   ]
  },
  {
   "cell_type": "code",
   "execution_count": 3,
   "id": "515f9b76",
   "metadata": {},
   "outputs": [
    {
     "name": "stdout",
     "output_type": "stream",
     "text": [
      "(16254,)\n",
      "    user  item  rating\n",
      "70     2     1     3.5\n",
      "71     2    62     0.5\n",
      "72     2   110     5.0\n",
      "73     2   150     4.0\n",
      "74     2   151     4.5\n"
     ]
    }
   ],
   "source": [
    "print(ratingsData['user'].unique().shape)\n",
    "print(ratingsData.head(5))"
   ]
  },
  {
   "cell_type": "markdown",
   "id": "49e24018",
   "metadata": {},
   "source": [
    "## Evaluation Tree"
   ]
  },
  {
   "cell_type": "markdown",
   "id": "e598de56",
   "metadata": {},
   "source": [
    "### Create tree and predictions for parameter range (this step takes time)"
   ]
  },
  {
   "cell_type": "code",
   "execution_count": 12,
   "id": "8cf92d97",
   "metadata": {
    "scrolled": true
   },
   "outputs": [
    {
     "name": "stdout",
     "output_type": "stream",
     "text": [
      "\tDatasplit performed\n",
      "\tTree build 129.19163298606873\n",
      "\tBatch nr 1 started\n",
      "\tPrediction computation time: 77.48199772834778\n",
      "\tPredictions done\n",
      "\tDatasplit performed\n",
      "\tTree build 165.400315284729\n",
      "\tBatch nr 1 started\n",
      "\tPrediction computation time: 95.73981285095215\n",
      "\tPredictions done\n",
      "\tDatasplit performed\n",
      "\tTree build 213.78955101966858\n",
      "\tBatch nr 1 started\n",
      "\tPrediction computation time: 84.91989088058472\n",
      "\tPredictions done\n",
      "\tDatasplit performed\n",
      "\tTree build 226.6425428390503\n",
      "\tBatch nr 1 started\n",
      "\tPrediction computation time: 76.66637992858887\n",
      "\tPredictions done\n",
      "\tDatasplit performed\n",
      "\tTree build 255.44197916984558\n",
      "\tBatch nr 1 started\n",
      "\tPrediction computation time: 73.93511986732483\n",
      "\tPredictions done\n",
      "\tDatasplit performed\n",
      "\tTree build 280.05815720558167\n",
      "\tBatch nr 1 started\n",
      "\tPrediction computation time: 71.71697998046875\n",
      "\tPredictions done\n",
      "\tDatasplit performed\n",
      "\tTree build 299.6199879646301\n",
      "\tBatch nr 1 started\n",
      "\tPrediction computation time: 72.05718564987183\n",
      "\tPredictions done\n",
      "\tDatasplit performed\n",
      "\tTree build 310.23505902290344\n",
      "\tBatch nr 1 started\n",
      "\tPrediction computation time: 73.27178621292114\n",
      "\tPredictions done\n",
      "\tDatasplit performed\n",
      "\tTree build 313.3292119503021\n",
      "\tBatch nr 1 started\n",
      "\tPrediction computation time: 73.43656301498413\n",
      "\tPredictions done\n",
      "\tDatasplit performed\n",
      "\tTree build 315.08234882354736\n",
      "\tBatch nr 1 started\n",
      "\tPrediction computation time: 73.4779679775238\n",
      "\tPredictions done\n"
     ]
    }
   ],
   "source": [
    "#create empty lists\n",
    "all_predictions = []\n",
    "all_zeroRatingUsers = []\n",
    "all_averageSolicitedItems = []\n",
    "construction_times = []\n",
    "#set range of parameter you want to research\n",
    "for mindepth in range(6,16):\n",
    "    #create copy\n",
    "    df = ratingsData.copy()\n",
    "    #split data\n",
    "    train_set, test_set = splitActiveLearningData(df,0.2)\n",
    "    #calculate entropy if needed\n",
    "    train_set = entropyCalculation(train_set)\n",
    "    print(\"\\tDatasplit performed\")\n",
    "    #build tree\n",
    "    startTime = time.time()\n",
    "    #change parameters in tree\n",
    "    tree = DynamicDecisionTree(train_set,2,mindepth,15,SplitFunction.logPopEntropySplit, IntervalFunction.getIntervals)\n",
    "    endTime = time.time()\n",
    "    print(\"\\tTree build \"+str(endTime-startTime))\n",
    "    #evaluate\n",
    "    predictions, zeroRatingUsers, averageSolicitedItems = predictTreebatch(train_set, test_set, tree, 0)\n",
    "    print(\"\\tPredictions done\")\n",
    "    all_predictions.append(predictions)\n",
    "    all_zeroRatingUsers.append(zeroRatingUsers)\n",
    "    all_averageSolicitedItems.append(averageSolicitedItems)\n",
    "    construction_times.append(endTime-startTime)"
   ]
  },
  {
   "cell_type": "markdown",
   "id": "18200259",
   "metadata": {},
   "source": [
    "### Evaluation graphs"
   ]
  },
  {
   "cell_type": "code",
   "execution_count": 13,
   "id": "71e414ce",
   "metadata": {},
   "outputs": [
    {
     "data": {
      "image/png": "[encoded data removed]",
      "text/plain": [
       "<Figure size 432x288 with 1 Axes>"
      ]
     },
     "metadata": {
      "needs_background": "light"
     },
     "output_type": "display_data"
    }
   ],
   "source": [
    "#show zero rating users\n",
    "#use correct ranges for x_val\n",
    "x_val = [i for i in range(6,16)]\n",
    "y_val = [len(i) for i in all_zeroRatingUsers]\n",
    "\n",
    "plt.plot(x_val,y_val)\n",
    "plt.xlabel('Minimum depth',fontsize = 14)\n",
    "plt.ylabel('Users with no rated items',fontsize = 14)\n",
    "#plt.axhline(y=test_set['user'].unique().shape[0],color='red',label='total new users')\n",
    "#plt.yticks([2600, 2700, 2800, 2900, 3000, 3100, 3200, 3300])\n",
    "plt.xticks([5, 7, 9, 11, 13,15])\n",
    "#plt.legend(loc=\"lower left\")\n",
    "#plt.savefig('figs/dynamic/zeroG_dynamic.png')\n",
    "plt.show()"
   ]
  },
  {
   "cell_type": "code",
   "execution_count": 14,
   "id": "9556aeed",
   "metadata": {},
   "outputs": [
    {
     "name": "stdout",
     "output_type": "stream",
     "text": [
      "14.733928022147026\n",
      "14.73392802214703\n"
     ]
    }
   ],
   "source": [
    "#zero ratings\n",
    "temp = np.array([len(i) for i in all_zeroRatingUsers])\n",
    "temp = temp*(-1)+test_set['user'].unique().shape[0]\n",
    "temp = temp/test_set['user'].unique().shape[0]*100\n",
    "print(100-np.mean(temp))\n",
    "print(len(all_zeroRatingUsers[-1])/test_set['user'].unique().shape[0]*100)"
   ]
  },
  {
   "cell_type": "code",
   "execution_count": 17,
   "id": "282db2f8",
   "metadata": {},
   "outputs": [
    {
     "data": {
      "image/png": "[encoded data removed]",
      "text/plain": [
       "<Figure size 432x288 with 1 Axes>"
      ]
     },
     "metadata": {
      "needs_background": "light"
     },
     "output_type": "display_data"
    }
   ],
   "source": [
    "#show avg elicited items\n",
    "x_val = [i for i in range(6,16)]\n",
    "y_val = all_averageSolicitedItems\n",
    "\n",
    "plt.plot(x_val,y_val)\n",
    "plt.xlabel('Minimum depth',fontsize = 14)\n",
    "plt.ylabel('Average number of ratings',fontsize = 14)\n",
    "plt.xticks([5, 7, 9, 11, 13,15])\n",
    "#plt.savefig('figs/dynamic/avgSol_dynamic.png')\n",
    "plt.show()"
   ]
  },
  {
   "cell_type": "code",
   "execution_count": 18,
   "id": "665cfd37",
   "metadata": {},
   "outputs": [],
   "source": [
    "#get the metrics for all predictions\n",
    "maes = []\n",
    "rmses = []\n",
    "mod_maes = []\n",
    "mod_rmses = []\n",
    "for i,p in enumerate(all_predictions):\n",
    "    maes.append(getMAE(p))\n",
    "    rmses.append(getRMSE(p))\n",
    "    mod_maes.append(getModifiedMAE(p,test_set,all_zeroRatingUsers[i]))\n",
    "    mod_rmses.append(getModifiedRMSE(p,test_set,all_zeroRatingUsers[i]))"
   ]
  },
  {
   "cell_type": "code",
   "execution_count": 19,
   "id": "043aff05",
   "metadata": {},
   "outputs": [
    {
     "name": "stdout",
     "output_type": "stream",
     "text": [
      "[0.7976441109209857, 0.7940726306675291, 0.7925150066075403, 0.7911720840585337, 0.7914574509241433, 0.7908729855447448, 0.790598056427827, 0.7904495653516265, 0.7903695827637318, 0.7903695827637318]\n",
      "[1.0382288619364743, 1.03383382688983, 1.0322680673547797, 1.030948489286763, 1.0314246482754235, 1.0305375108280879, 1.0302189143611842, 1.0298630551793029, 1.0297941081208473, 1.0297941081208473]\n",
      "[0.9254660929499722, 0.9190828155798018, 0.9177052997788262, 0.9165441798633971, 0.9167499690553891, 0.9162573112800553, 0.9158769843641318, 0.9157434040056492, 0.9156762373404518, 0.9156762373404518]\n",
      "[1.1269090006365716, 1.1208668804465483, 1.1195027136505513, 1.1183705648448454, 1.1187473775135, 1.118000142379382, 1.1176280673631787, 1.117322475316082, 1.1172645470045326, 1.1172645470045326]\n"
     ]
    }
   ],
   "source": [
    "print(maes)\n",
    "print(rmses)\n",
    "print(mod_maes)\n",
    "print(mod_rmses)"
   ]
  },
  {
   "cell_type": "code",
   "execution_count": 20,
   "id": "f22b446e",
   "metadata": {},
   "outputs": [
    {
     "data": {
      "image/png": "[encoded data removed]",
      "text/plain": [
       "<Figure size 432x288 with 1 Axes>"
      ]
     },
     "metadata": {
      "needs_background": "light"
     },
     "output_type": "display_data"
    }
   ],
   "source": [
    "#plot mae\n",
    "x = [i for i in range(6,16)]\n",
    "y_1 = maes\n",
    "y_2 = mod_maes\n",
    "\n",
    "plt.plot(x,y_1,label='MAE')\n",
    "plt.plot(x,y_2,color='r',label='modified MAE')\n",
    "plt.xlabel('Minimum depth',fontsize = 14)\n",
    "plt.ylabel('MAE',fontsize = 14)\n",
    "plt.xticks([5, 7, 9, 11, 13,15])\n",
    "plt.yticks([0.78,0.80,0.82,0.84,0.86,0.88,0.90,0.92,0.94])\n",
    "plt.legend(loc=\"upper right\")\n",
    "#plt.savefig('figs/dynamic/MAE_dynamic.png')\n",
    "plt.show()"
   ]
  },
  {
   "cell_type": "code",
   "execution_count": 21,
   "id": "edff5239",
   "metadata": {},
   "outputs": [
    {
     "data": {
      "image/png": "[encoded data removed]",
      "text/plain": [
       "<Figure size 432x288 with 1 Axes>"
      ]
     },
     "metadata": {
      "needs_background": "light"
     },
     "output_type": "display_data"
    }
   ],
   "source": [
    "#plot rmse\n",
    "x = [i for i in range(6,16)]\n",
    "y_1 = rmses\n",
    "y_2 = mod_rmses\n",
    "\n",
    "plt.plot(x,y_1,label='RMSE')\n",
    "plt.plot(x,y_2,color='r',label='modified RMSE')\n",
    "plt.xlabel('Minimum depth',fontsize = 14)\n",
    "plt.ylabel('RMSE',fontsize = 14)\n",
    "plt.xticks([5, 7, 9, 11, 13,15])\n",
    "plt.yticks([1.02,1.04,1.06,1.08,1.10,1.12,1.14])\n",
    "plt.legend(loc=\"upper right\")\n",
    "#plt.savefig('figs/dynamic/RMSE_dynamic.png')\n",
    "plt.show()"
   ]
  },
  {
   "cell_type": "code",
   "execution_count": 42,
   "id": "964c0411",
   "metadata": {},
   "outputs": [
    {
     "data": {
      "image/png": "[encoded data removed]",
      "text/plain": [
       "<Figure size 432x288 with 1 Axes>"
      ]
     },
     "metadata": {
      "needs_background": "light"
     },
     "output_type": "display_data"
    },
    {
     "data": {
      "text/plain": [
       "0.7"
      ]
     },
     "execution_count": 42,
     "metadata": {},
     "output_type": "execute_result"
    }
   ],
   "source": [
    "#get roc for certain tree\n",
    "getROC(all_predictions[-1], train_set)"
   ]
  },
  {
   "cell_type": "code",
   "execution_count": 33,
   "id": "f268a1f0",
   "metadata": {},
   "outputs": [
    {
     "name": "stdout",
     "output_type": "stream",
     "text": [
      "[92302 55601 34139]\n"
     ]
    },
    {
     "data": {
      "image/png": "[encoded data removed]",
      "text/plain": [
       "<Figure size 432x288 with 1 Axes>"
      ]
     },
     "metadata": {
      "needs_background": "light"
     },
     "output_type": "display_data"
    }
   ],
   "source": [
    "#function for distribution of likes/dislikes/unknown in a tree\n",
    "def checkChild(node):\n",
    "    if node == None:\n",
    "        return 0,0,0\n",
    "    dislikes,likes,nones=0,0,0\n",
    "    users = node.users\n",
    "    if node.chosenInterval != None:\n",
    "        if 3.5 in node.chosenInterval:\n",
    "            likes += users\n",
    "        elif 0.5 in node.chosenInterval:\n",
    "            dislikes += users\n",
    "        else:\n",
    "            nones += users\n",
    "    for child in node.children:\n",
    "        triple = checkChild(child)\n",
    "        nones += triple[0]\n",
    "        likes += triple[1]\n",
    "        dislikes += triple[2]\n",
    "    return nones, likes, dislikes\n",
    "\n",
    "#shows the distribution of the chosen paths\n",
    "y = np.array(checkChild(tree.root))\n",
    "print(y)\n",
    "x = np.array([1,2,3])\n",
    "y = y/sum(y)*100\n",
    "\n",
    "plt.bar(x,y)\n",
    "\n",
    "plt.xlabel('Number of children',fontsize = 14)\n",
    "plt.ylabel('Percentage of nodes',fontsize = 14)\n",
    "plt.xticks([1,2,3])\n",
    "#plt.yscale('log')\n",
    "#plt.savefig('figs/extended/child_partitioning.png')\n",
    "plt.show()"
   ]
  },
  {
   "cell_type": "code",
   "execution_count": 37,
   "id": "429dd41f",
   "metadata": {},
   "outputs": [
    {
     "data": {
      "image/png": "[encoded data removed]",
      "text/plain": [
       "<Figure size 432x288 with 1 Axes>"
      ]
     },
     "metadata": {
      "needs_background": "light"
     },
     "output_type": "display_data"
    }
   ],
   "source": [
    "#comparison of path distribution in different trees\n",
    "\n",
    "#create trees\n",
    "t1 = DecisionTree(train_set,2,10,SplitFunction.popularSplit, IntervalFunction.getIntervals)\n",
    "t2 = DecisionTree(train_set,2,10,SplitFunction.logPopEntropySplit, IntervalFunction.getIntervals)\n",
    "\n",
    "#get distributions\n",
    "y1 = np.array(checkChild(t1.root))\n",
    "y1 = y1/np.sum(y1)*100\n",
    "y2 = np.array(checkChild(t2.root))\n",
    "y2 = y2/np.sum(y2)*100\n",
    "\n",
    "x = np.array([0,1,2])\n",
    "xticks = np.array(['Unknown','Like','Dislike'])\n",
    "width = 0.35\n",
    "\n",
    "plt.bar(x,y1,label='popularity',width=width)\n",
    "plt.bar(x+width+0.04,y2,color='darkblue',label='log(pop)*entropy',width=width)\n",
    "plt.xlabel('Path',fontsize = 14)\n",
    "plt.ylabel('Fraction of users',fontsize = 14)\n",
    "plt.xticks(x+width/2+0.02,xticks)\n",
    "plt.legend(loc=\"upper right\")\n",
    "#plt.savefig('figs/baseline/entropy/path_partitioning.png')\n",
    "plt.show()"
   ]
  },
  {
   "cell_type": "code",
   "execution_count": 55,
   "id": "5c180929",
   "metadata": {},
   "outputs": [
    {
     "data": {
      "image/png": "[encoded data removed]",
      "text/plain": [
       "<Figure size 432x288 with 1 Axes>"
      ]
     },
     "metadata": {
      "needs_background": "light"
     },
     "output_type": "display_data"
    }
   ],
   "source": [
    "#get number of acquired ratings for a tree\n",
    "t1 = DecisionTree(train_set,2,20,SplitFunction.logPopEntropySplit, IntervalFunction.getIntervals)\n",
    "\n",
    "users = test_set['user'].unique()\n",
    "acquired_ratings = [0 for i in range(21)]\n",
    "for u in users:\n",
    "    queried_items = readTree(t1,u,test_set)\n",
    "    #ratings for asked items of user\n",
    "    data_user = test_set[test_set['user']==u]\n",
    "    queried_data = data_user[data_user['item'].isin(queried_items)]\n",
    "    #store amount of solicited items\n",
    "    acquired_ratings[(len(queried_data['item'].unique()))] += 1\n",
    "\n",
    "x = [i for i in range(21)]\n",
    "y = np.array(acquired_ratings)\n",
    "y = y/np.sum(y)*100\n",
    "\n",
    "plt.bar(x,y)\n",
    "plt.xlabel('Number of acquired ratings',fontsize = 14)\n",
    "plt.ylabel('Users',fontsize = 14)\n",
    "#plt.yscale('log')\n",
    "#plt.savefig('figs/extended/child_partitioning.png')\n",
    "plt.show()"
   ]
  },
  {
   "cell_type": "code",
   "execution_count": 56,
   "id": "709984a7",
   "metadata": {},
   "outputs": [
    {
     "data": {
      "image/png": "[encoded data removed]",
      "text/plain": [
       "<Figure size 432x288 with 1 Axes>"
      ]
     },
     "metadata": {
      "needs_background": "light"
     },
     "output_type": "display_data"
    }
   ],
   "source": [
    "#get number of queried items for a tree\n",
    "t1 = DynamicDecisionTree(train_set,2,10,20,SplitFunction.logPopEntropySplit, IntervalFunction.getIntervals)\n",
    "\n",
    "users = test_set['user'].unique()\n",
    "queries = [0 for i in range(21)]\n",
    "for u in users:\n",
    "    queried_items = readTree(t1,u,test_set)\n",
    "    #store amount of solicited items\n",
    "    queries[(len(queried_items))] += 1\n",
    "\n",
    "x = [i for i in range(21)]\n",
    "y = queries\n",
    "\n",
    "plt.bar(x,y)\n",
    "plt.xlabel('Number of queried items',fontsize = 14)\n",
    "plt.ylabel('Users',fontsize = 14)\n",
    "#plt.yscale('log')\n",
    "#plt.savefig('figs/extended/child_partitioning.png')\n",
    "plt.show()"
   ]
  },
  {
   "cell_type": "markdown",
   "id": "ae381266",
   "metadata": {},
   "source": [
    "## Evaluate web of trees"
   ]
  },
  {
   "cell_type": "markdown",
   "id": "c22de9de",
   "metadata": {},
   "source": [
    "### Extra graphs"
   ]
  },
  {
   "cell_type": "code",
   "execution_count": 62,
   "id": "5f8a32fd",
   "metadata": {},
   "outputs": [
    {
     "name": "stdout",
     "output_type": "stream",
     "text": [
      "\tDatasplit performed\n",
      "\tWeb build 71.93706607818604\n",
      "\tBatch nr 1 started\n",
      "\tPrediction computation time: 92.95188403129578\n",
      "\tPredictions done\n",
      "\tDatasplit performed\n",
      "\tWeb build 69.86144471168518\n",
      "\tBatch nr 1 started\n",
      "\tPrediction computation time: 88.7580897808075\n",
      "\tPredictions done\n",
      "\tDatasplit performed\n",
      "\tWeb build 65.55456399917603\n",
      "\tBatch nr 1 started\n",
      "\tPrediction computation time: 77.71122312545776\n",
      "\tPredictions done\n",
      "\tDatasplit performed\n",
      "\tWeb build 65.37127780914307\n",
      "\tBatch nr 1 started\n",
      "\tPrediction computation time: 84.11190390586853\n",
      "\tPredictions done\n",
      "\tDatasplit performed\n",
      "\tWeb build 66.95690393447876\n",
      "\tBatch nr 1 started\n",
      "\tPrediction computation time: 85.14576387405396\n",
      "\tPredictions done\n",
      "\tDatasplit performed\n",
      "\tWeb build 109.49591398239136\n",
      "\tBatch nr 1 started\n",
      "\tPrediction computation time: 79.25137615203857\n",
      "\tPredictions done\n",
      "\tDatasplit performed\n",
      "\tWeb build 109.52765798568726\n",
      "\tBatch nr 1 started\n",
      "\tPrediction computation time: 79.6789870262146\n",
      "\tPredictions done\n",
      "\tDatasplit performed\n",
      "\tWeb build 109.90918397903442\n",
      "\tBatch nr 1 started\n",
      "\tPrediction computation time: 79.87831997871399\n",
      "\tPredictions done\n",
      "\tDatasplit performed\n",
      "\tWeb build 110.37819981575012\n",
      "\tBatch nr 1 started\n",
      "\tPrediction computation time: 77.86846399307251\n",
      "\tPredictions done\n",
      "\tDatasplit performed\n",
      "\tWeb build 111.04392504692078\n",
      "\tBatch nr 1 started\n",
      "\tPrediction computation time: 77.76011300086975\n",
      "\tPredictions done\n",
      "\tDatasplit performed\n",
      "\tWeb build 192.94141221046448\n",
      "\tBatch nr 1 started\n",
      "\tPrediction computation time: 90.13715982437134\n",
      "\tPredictions done\n",
      "\tDatasplit performed\n",
      "\tWeb build 199.88748693466187\n",
      "\tBatch nr 1 started\n",
      "\tPrediction computation time: 80.8386743068695\n",
      "\tPredictions done\n",
      "\tDatasplit performed\n",
      "\tWeb build 199.9234311580658\n",
      "\tBatch nr 1 started\n",
      "\tPrediction computation time: 78.09254908561707\n",
      "\tPredictions done\n",
      "\tDatasplit performed\n",
      "\tWeb build 204.07239198684692\n",
      "\tBatch nr 1 started\n",
      "\tPrediction computation time: 86.54549384117126\n",
      "\tPredictions done\n",
      "\tDatasplit performed\n",
      "\tWeb build 239.27998685836792\n",
      "\tBatch nr 1 started\n",
      "\tPrediction computation time: 96.427903175354\n",
      "\tPredictions done\n",
      "\tDatasplit performed\n",
      "\tWeb build 308.3853602409363\n",
      "\tBatch nr 1 started\n",
      "\tPrediction computation time: 78.124990940094\n",
      "\tPredictions done\n",
      "\tDatasplit performed\n",
      "\tWeb build 343.4074549674988\n",
      "\tBatch nr 1 started\n",
      "\tPrediction computation time: 78.54367518424988\n",
      "\tPredictions done\n",
      "\tDatasplit performed\n",
      "\tWeb build 349.1085407733917\n",
      "\tBatch nr 1 started\n",
      "\tPrediction computation time: 78.44260096549988\n",
      "\tPredictions done\n",
      "\tDatasplit performed\n",
      "\tWeb build 349.86510491371155\n",
      "\tBatch nr 1 started\n",
      "\tPrediction computation time: 77.01474833488464\n",
      "\tPredictions done\n",
      "\tDatasplit performed\n",
      "\tWeb build 364.3026568889618\n",
      "\tBatch nr 1 started\n",
      "\tPrediction computation time: 116.16720294952393\n",
      "\tPredictions done\n",
      "\tDatasplit performed\n",
      "\tWeb build 561.9037177562714\n",
      "\tBatch nr 1 started\n",
      "\tPrediction computation time: 96.41605973243713\n",
      "\tPredictions done\n",
      "\tDatasplit performed\n",
      "\tWeb build 644.4240291118622\n",
      "\tBatch nr 1 started\n",
      "\tPrediction computation time: 85.73604106903076\n",
      "\tPredictions done\n",
      "\tDatasplit performed\n",
      "\tWeb build 550.9852159023285\n",
      "\tBatch nr 1 started\n",
      "\tPrediction computation time: 81.89111709594727\n",
      "\tPredictions done\n",
      "\tDatasplit performed\n",
      "\tWeb build 566.7249608039856\n",
      "\tBatch nr 1 started\n",
      "\tPrediction computation time: 80.6571638584137\n",
      "\tPredictions done\n",
      "\tDatasplit performed\n",
      "\tWeb build 565.7588999271393\n",
      "\tBatch nr 1 started\n",
      "\tPrediction computation time: 83.87268781661987\n",
      "\tPredictions done\n"
     ]
    }
   ],
   "source": [
    "#create empty lists\n",
    "all_predictions = []\n",
    "all_zeroRatingUsers = []\n",
    "all_averageSolicitedItems = []\n",
    "construction_times = []\n",
    "params = []\n",
    "\n",
    "#set range of parameter you want to research\n",
    "for maxdepth in range(5,10):\n",
    "    for mindepth in range(5,10):\n",
    "        #create copy\n",
    "        df = ratingsData.copy()\n",
    "        #split data\n",
    "        train_set, test_set = splitActiveLearningData(df,0.2)\n",
    "        #calculate entropy if needed\n",
    "        train_set = entropyCalculation(train_set)\n",
    "        print(\"\\tDatasplit performed\")\n",
    "        #build tree\n",
    "        startTime = time.time()\n",
    "        #change parameters in tree\n",
    "        wot = WebOfTrees(train_set, 2, 7, 15, \n",
    "                mindepth, maxdepth,\n",
    "                SplitFunction.logPopEntropySplit, IntervalFunction.getIntervals, dfSplits=15)\n",
    "        \n",
    "        endTime = time.time()\n",
    "        print(\"\\tWeb build \"+str(endTime-startTime))\n",
    "        #evaluate\n",
    "        predictions, zeroRatingUsers, averageSolicitedItems = predictWebbatch(train_set, test_set, wot, 0)\n",
    "        print(\"\\tPredictions done\")\n",
    "        all_predictions.append(predictions)\n",
    "        all_zeroRatingUsers.append(zeroRatingUsers)\n",
    "        all_averageSolicitedItems.append(averageSolicitedItems)\n",
    "        construction_times.append(endTime-startTime)\n",
    "        params.append((mindepth,maxdepth))"
   ]
  },
  {
   "cell_type": "code",
   "execution_count": 63,
   "id": "6f7ef642",
   "metadata": {},
   "outputs": [],
   "source": [
    "#get the metrics for all predictions\n",
    "maes = []\n",
    "rmses = []\n",
    "mod_maes = []\n",
    "mod_rmses = []\n",
    "for i,p in enumerate(all_predictions):\n",
    "    maes.append(getMAE(p))\n",
    "    rmses.append(getRMSE(p))\n",
    "    mod_maes.append(getModifiedMAE(p,test_set,all_zeroRatingUsers[i]))\n",
    "    mod_rmses.append(getModifiedRMSE(p,test_set,all_zeroRatingUsers[i]))"
   ]
  },
  {
   "cell_type": "code",
   "execution_count": null,
   "id": "1b18c3d6",
   "metadata": {},
   "outputs": [],
   "source": [
    "#plot mae vals\n",
    "x = [i[0] for i in params]\n",
    "y = [i[1] for i in params]\n",
    "\n",
    "colors = mod_maes\n",
    "#transform sizes to be more distinguishable\n",
    "sizes = np.array(mod_maes)\n",
    "sizes = (sizes+1)**5*100\n",
    "\n",
    "plt.scatter(x,y,c=colors, s=sizes, cmap='viridis')\n",
    "plt.xlabel('Minimal depth')\n",
    "plt.ylabel('Maximum depth')\n",
    "cbar = plt.colorbar()\n",
    "cbar.set_label('Results')\n",
    "#plt.savefig('figs/wot/mae')\n",
    "plt.show()"
   ]
  }
 ],
 "metadata": {
  "kernelspec": {
   "display_name": "Python 3",
   "language": "python",
   "name": "python3"
  },
  "language_info": {
   "codemirror_mode": {
    "name": "ipython",
    "version": 3
   },
   "file_extension": ".py",
   "mimetype": "text/x-python",
   "name": "python",
   "nbconvert_exporter": "python",
   "pygments_lexer": "ipython3",
   "version": "3.8.8"
  }
 },
 "nbformat": 4,
 "nbformat_minor": 5
}
